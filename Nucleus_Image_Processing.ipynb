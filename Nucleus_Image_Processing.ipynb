{
 "cells": [
  {
   "cell_type": "code",
   "execution_count": null,
   "id": "72a617cf-1078-4f77-ac01-ce49880c67a6",
   "metadata": {},
   "outputs": [],
   "source": [
    "###Detailed refernceing and methodology is written in the submitted paper methods section###\n",
    "###If there are any questions about the code image analysis please feel free to contact me at my private email: yagmur2986@gmail.com###\n",
    "###Further Supervision contacts for project specific questions: Sebastian Gilbert and Georgiana Neag###\n",
    "\n",
    "import tifffile as tiff\n",
    "import imageio.v3 as iio\n",
    "import matplotlib.pyplot as plt\n",
    "import skimage as ski\n",
    "import napari\n",
    "import time\n",
    "import numpy as np\n",
    "from scipy import ndimage as ndi \n",
    "from skimage.exposure import rescale_intensity\n",
    "from skimage.filters import meijering \n",
    "from skimage.morphology import skeletonize_3d\n",
    "from skimage import data, filters, morphology\n",
    "from skimage.transform import rescale \n",
    "import skimage"
   ]
  },
  {
   "cell_type": "code",
   "execution_count": null,
   "id": "d36ebe0e-f8b4-4d1f-920a-f92490509b98",
   "metadata": {},
   "outputs": [],
   "source": [
    "#VISUALISATION FOR NUCLEI\n",
    "\n",
    "total_start = time.time()\n",
    "\n",
    "#Import files as tiff for better readability and runtime\n",
    "print (\"reading files...\")\n",
    "start = time.time()\n",
    "nuclei_original = tiff.imread('[Enter_File]')\n",
    "nuclei_probability = tiff.imread('[Enter_File]')\n",
    "print (f\"files loaded. Time taken: {time.time() - start: .2f} seconds\")\n",
    "\n",
    "\n",
    "#This allows to check for the dimentions / shape of the files, ensure both are the same,\n",
    "#if one has an additional parameter e.g. (66, 2, 4202, 1043) it means there are two channels, \n",
    "#need to therefore adjust.\n",
    "print (\"Nuclei original shape:\", nuclei_original.shape)\n",
    "print (\"Nuclei probability shape:\", nuclei_probability.shape)\n",
    "\n",
    "\n",
    "#complete image normalisation (takes a high amount of computational power) \n",
    "print (\"normalising files...\")\n",
    "start = time.time()\n",
    "image_normalisation = rescale_intensity(nuclei_probability, out_range=(0,1))\n",
    "print(f'Intensity range: [{image_normalisation.min()} - {image_normalisation.max()}]')\n",
    "print(f'Array type: {image_normalisation.dtype}')\n",
    "print (f\"Normalisation done. Time taken: {time.time() - start: .2f} seconds\")\n",
    "\n",
    "np.save(\"[Enter_Save_Name]\", image_normalisation)"
   ]
  },
  {
   "cell_type": "code",
   "execution_count": null,
   "id": "50c9852e-c223-473e-96bb-d0a72dbf1318",
   "metadata": {},
   "outputs": [],
   "source": [
    "#Thresholding: Two metjods \n",
    "#Otsu's method not suitable for images with uneven illumination or non-uniform background \n",
    "#Li's method is, this version will explore li's method \n",
    "print (\"denoising, thresholding and cleaning...\")\n",
    "start = time.time()\n",
    "denoised = ndi.median_filter(nuclei_probability, size=3)\n",
    "thresholded = denoised > filters.threshold_li(denoised)\n",
    "cleaned = morphology.remove_small_objects(\n",
    "    morphology.remove_small_holes(thresholded, 2**3),\n",
    "    20**3)\n",
    "print (f\"denoising, thresholding and cleaning done. Time taken: {time.time() - start: .2f} seconds\")\n",
    "\n",
    "print (\"segmenting ..\")\n",
    "start = time.time()\n",
    "segmented=ndi.label(cleaned)[0]\n",
    "print (f\"Segmenting done. Time taken: {time.time() - start: .2f} seconds\")"
   ]
  },
  {
   "cell_type": "code",
   "execution_count": null,
   "id": "d1a74895-a0ec-48ec-9e4e-3121f7aeb810",
   "metadata": {},
   "outputs": [],
   "source": [
    "#optional checkpoint:\n",
    "print (\"opening napari viewer\")\n",
    "viewer = napari.Viewer()\n",
    "viewer.add_image(nuclei_original, name='Nuclei Original', colormap='grey')\n",
    "viewer.add_image(nuclei_probability, name='Nuclei Probability', colormap='viridis')\n",
    "viewer.add_labels(segmented, name='Segmented nuclei')\n",
    "viewer.dims.ndisplay = 3\n",
    "print (\"napari viewer opened\")"
   ]
  },
  {
   "cell_type": "code",
   "execution_count": null,
   "id": "1978bf0a-401f-48f1-8a2e-20d51b7a1b13",
   "metadata": {},
   "outputs": [],
   "source": [
    "original_dendrite_voxel = ['Enter Voxels'] #Enter voxel in format e.g. 0.299, 0.241, 0.241\n",
    "wanted_dendrite_voxel =  #Enter desired voxel for rescaling e.g. 0.241\n",
    "\n",
    "scale_factors = [ x/wanted_dendrite_voxel for x in original_dendrite_voxel] \n",
    "\n",
    "nuclei_rescale = rescale(\n",
    "    segmented,\n",
    "    scale=scale_factors,\n",
    "    order=1,\n",
    "    preserve_range=True,\n",
    "    anti_aliasing =True, \n",
    "    channel_axis = None)"
   ]
  },
  {
   "cell_type": "code",
   "execution_count": null,
   "id": "c9d5a629-db35-42cb-9e52-31e974947988",
   "metadata": {},
   "outputs": [],
   "source": [
    "print (\"Nuclei original segmented shape:\", segmented.shape)\n",
    "print (\"Nuclei segmented rescale shape:\", nuclei_rescale.shape)\n",
    "\n",
    "print (segmented.dtype)\n",
    "print (nuclei_rescale.dtype)"
   ]
  },
  {
   "cell_type": "code",
   "execution_count": null,
   "id": "1e21bd7f-edc7-4fca-8eb9-048de0b9164e",
   "metadata": {},
   "outputs": [],
   "source": [
    "rescaled_nuclei_int = nuclei_rescale.astype(np.int32)\n",
    "\n",
    "#Performed standard thresholding on the rescale with: anything not 0 is 1 therfore, binary threshold was performed\n",
    "BINARY_rescaled_nuclei_rescale = (rescaled_nuclei_int != 0).astype(np.uint8)\n",
    "\n",
    "tiff.imwrite('[Enter_Save_Name]', BINARY_rescaled_nuclei_rescale)\n",
    "tiff.imwrite('[Enter_Save_Name]]', rescaled_nuclei_int)\n",
    "Binary_recale_nuclei_OPEN = tiff.imread('[Enter_File]')"
   ]
  },
  {
   "cell_type": "code",
   "execution_count": null,
   "id": "db57443b-1bea-4443-8294-2e2c495eca95",
   "metadata": {},
   "outputs": [],
   "source": [
    "print (segmented.dtype)\n",
    "print (nuclei_rescale.dtype)\n",
    "print (rescaled_nuclei_int.dtype)"
   ]
  },
  {
   "cell_type": "code",
   "execution_count": null,
   "id": "54ad77c1-554d-4a7b-a36a-5423398d9616",
   "metadata": {},
   "outputs": [],
   "source": [
    "labeled_image, count = skimage.measure.label(Binary_recale_nuclei_OPEN, connectivity=2, return_num=True)\n",
    "print (count)"
   ]
  },
  {
   "cell_type": "code",
   "execution_count": null,
   "id": "690f59a5-eea2-47ba-933e-a5dedbd64fe5",
   "metadata": {},
   "outputs": [],
   "source": [
    "rescaled_nuclei_open = tiff.imread('[Enter_File]')\n",
    "rescaled_int_nuclei_open = tiff.imread('[Enter_File]')\n",
    "\n",
    "viewer = napari.Viewer()\n",
    "viewer.add_image(rescaled_nuclei_open, name='rescaled segmented nuclei', colormap='grey')\n",
    "viewer.add_image(nuclei_original, name='Nuclei Original', colormap='grey')\n",
    "viewer.add_image(nuclei_probability, name='Nuclei Probability', colormap='viridis')\n",
    "viewer.add_labels(segmented, name='Segmented nuclei')\n",
    "viewer.add_labels(rescaled_int_nuclei_open, name='Segmented rescaled int nuclei')\n",
    "viewer.add_labels(labeled_image, name='Segmented rescaled BINARY nuclei')\n",
    "viewer.dims.ndisplay = 3"
   ]
  },
  {
   "cell_type": "code",
   "execution_count": null,
   "id": "ef1147a7-a32d-49e2-9672-06dbb7463abd",
   "metadata": {},
   "outputs": [],
   "source": [
    "np.save(\"[Enter_Save_Name]\", rescaled_nuclei_int)"
   ]
  }
 ],
 "metadata": {
  "kernelspec": {
   "display_name": "Python 3 (ipykernel)",
   "language": "python",
   "name": "python3"
  },
  "language_info": {
   "codemirror_mode": {
    "name": "ipython",
    "version": 3
   },
   "file_extension": ".py",
   "mimetype": "text/x-python",
   "name": "python",
   "nbconvert_exporter": "python",
   "pygments_lexer": "ipython3",
   "version": "3.9.21"
  }
 },
 "nbformat": 4,
 "nbformat_minor": 5
}
