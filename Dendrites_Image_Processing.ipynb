{
 "cells": [
  {
   "cell_type": "code",
   "execution_count": null,
   "id": "e916cf68-d9b4-465b-b2a4-ca129fd49bef",
   "metadata": {},
   "outputs": [],
   "source": [
    "###Detailed refernceing and methodology is written in the submitted paper methods section###\n",
    "###If there are any questions about the code image analysis please feel free to contact me at my private email: yagmur2986@gmail.com###\n",
    "###Further Supervision contacts for project specific questions: Sebastian Gilbert and Georgiana Neag###\n",
    "\n",
    "import tifffile as tiff\n",
    "import imageio.v3 as iio\n",
    "import matplotlib.pyplot as plt\n",
    "import skimage as ski\n",
    "import napari\n",
    "import time\n",
    "import skan \n",
    "import skimage.io\n",
    "import numpy as np\n",
    "import pandas as pd \n",
    "from scipy import ndimage as ndi \n",
    "from skimage.exposure import rescale_intensity\n",
    "from skimage.filters import meijering, threshold_otsu \n",
    "from skimage.transform import rescale \n",
    "from skimage.morphology import skeletonize_3d\n",
    "from skimage import data, filters, morphology\n",
    "from skimage.morphology import skeletonize_3d\n",
    "from skan import Skeleton"
   ]
  },
  {
   "cell_type": "code",
   "execution_count": null,
   "id": "3125a961-3e79-4daa-bcda-5f6207fffe7c",
   "metadata": {},
   "outputs": [],
   "source": [
    "###DENDRITE FILE READ AND NORMALISATION###\n",
    "\n",
    "#To visualise computational time taken for each step#\n",
    "total_start = time.time()\n",
    "\n",
    "#Import files as tiff for better readability and runtime#\n",
    "#insert the relevent files and make sure they are in the corerect dimentions (x,y,z): there is a checkpoint below#\n",
    "start = time.time()\n",
    "print (\"reading files...\")\n",
    "dendrite_original = tiff.imread('[Enter_File]') \n",
    "dendrite_probability = tiff.imread('[Enter_File]') #will be the forgound channel\n",
    "print (f\"files loaded. Time taken: {time.time() - start: .2f} seconds\")\n",
    "\n",
    "#This allows to check for the dimentions / shape of the files, ensure both are the same,\n",
    "#if one has an additional parameter e.g. (66, 2, 4202, 1043) it means there are two channels, \n",
    "#need to therefore adjust.\n",
    "print (\"Dendrites original shape:\", dendrite_original.shape)\n",
    "print (\"Dendrites probability shape:\", dendrite_probability.shape)\n",
    "\n",
    "#complete image normalisation (takes a high amount of computational power)\n",
    "start = time.time()\n",
    "print (\"normalising files...\")\n",
    "image_normalisation = rescale_intensity(dendrite_probability, out_range=(0,1))\n",
    "print(f'Intensity range: [{image_normalisation.min()} - {image_normalisation.max()}]')\n",
    "print(f'Array type: {image_normalisation.dtype}')\n",
    "print (f\"Normalisation done. Time taken: {time.time() - start: .2f} seconds\")\n",
    "\n",
    "#Vesselness filtering through meijering#\n",
    "#Note Meijering usually takes the longest for up to over 20minutes, please give it time#\n",
    "start = time.time()\n",
    "print (\"meijering...\")\n",
    "dendrite_meijering = meijering(image_normalisation, sigmas=range(1,3,1), black_ridges=False)\n",
    "print (f\"Meijering done. Time taken: {time.time() - start: .2f} seconds\")\n",
    "\n",
    "np.save(\"[Enter_Save_Name]\", dendrite_meijering)"
   ]
  },
  {
   "cell_type": "code",
   "execution_count": null,
   "id": "078b8490-1446-475f-8000-0d90337d4013",
   "metadata": {},
   "outputs": [],
   "source": [
    "dendrite_meijering = np.load(\"[Enter_Name]\") #Optional reload for later use\n",
    "dendrite_original = tiff.imread('Data/Dendrites_YM4-first-batch-Hoechst-Phall555-63x-merged.ims - YM4-first-batch-Hoechst-Phall555-63x-merged.ims Resolution Level 1 - C=1.tif') \n",
    "dendrite_probability = tiff.imread('Data/YM4_Dendrite_Foreground.tif') #will be the forgound channel"
   ]
  },
  {
   "cell_type": "code",
   "execution_count": null,
   "id": "569d4a52-dba6-435f-95f8-8fa6c24dccbe",
   "metadata": {},
   "outputs": [],
   "source": [
    "###DENDRITE THRESHOLDING, DENOISING AND CLEANING AND SKELETONISATION STEP###\n",
    "\n",
    "#Thresholding: Two metjods# \n",
    "#Otsu's method not suitable for images with uneven illumination or non-uniform background#\n",
    "#Li's method is, this version will explore otsu method# \n",
    "start = time.time()\n",
    "print (\"denoising, thresholding and cleaning...\")\n",
    "labels_binary = (dendrite_meijering >= threshold_otsu(dendrite_meijering)).astype(np.uint8)\n",
    "cleaned = morphology.remove_small_objects(\n",
    "    morphology.remove_small_holes(labels_binary, 2**3),\n",
    "    20**3)\n",
    "print (f\"otsu threshold done. Time taken: {time.time() - start: .2f} seconds\")\n",
    "\n",
    "#Checkpoint view with 2D slide bar \n",
    "viewer = napari.Viewer()"
   ]
  },
  {
   "cell_type": "code",
   "execution_count": null,
   "id": "77b37fa4-e826-41e4-a1ca-03523e559fab",
   "metadata": {},
   "outputs": [],
   "source": [
    "###RESCALE VOXELS ON BINARY FILE###\n",
    "\n",
    "original_dendrite_voxel = ['Enter Voxels'] #Enter voxel in format e.g. 0.299, 0.241, 0.241\n",
    "wanted_dendrite_voxel =  #Enter desired voxel for rescaling e.g. 0.241\n",
    "\n",
    "scale_factors = [ x/wanted_dendrite_voxel for x in original_dendrite_voxel] \n",
    "\n",
    "print (\"Rescaling...\")\n",
    "dendrite_otsu_rescale = rescale(\n",
    "    labels_binary,\n",
    "    scale=scale_factors,\n",
    "    order=1,\n",
    "    preserve_range=True,\n",
    "    anti_aliasing =True, \n",
    "    channel_axis = None)\n",
    "print (f\"Rescaling done. Time taken: {time.time() - start: .2f} seconds\")"
   ]
  },
  {
   "cell_type": "code",
   "execution_count": null,
   "id": "3b81d227-f70f-4e8a-b160-7982d511919a",
   "metadata": {},
   "outputs": [],
   "source": [
    "###CHECKPOINT###\n",
    "\n",
    "#Check shape and datatype of both original otsu thresholded binary labels and the calculated rescale#\n",
    "print (\"Dendrite original otsu shape:\", labels_binary.shape)\n",
    "print (\"Dendrite otsu rescale shape:\", dendrite_otsu_rescale.shape)\n",
    "print (\"Dendrite original otsu datatype:\", labels_binary.dtype)\n",
    "print (\"Dendrite otsu rescale datatype:\", dendrite_otsu_rescale.dtype)\n",
    "\n",
    "#Performed standard thresholding on the rescale with: anything not 0 is 1 therfore, binary threshold was performed#\n",
    "BINARY_rescaled_dendrite_otsu_rescale_uint = (dendrite_otsu_rescale != 0).astype(np.uint8)\n",
    "\n",
    "#Confirm and validate results#\n",
    "print (\"BINARY THRESHOLDED Dendrite otsu rescale datatype:\", BINARY_rescaled_dendrite_otsu_rescale_uint.dtype)\n",
    "print (\"BINARY THRESHOLDED Dendrite otsu rescale shape:\", BINARY_rescaled_dendrite_otsu_rescale_uint.shape)"
   ]
  },
  {
   "cell_type": "code",
   "execution_count": null,
   "id": "2ab50de5-f3dc-4a75-85f1-c44ebeac2801",
   "metadata": {},
   "outputs": [],
   "source": [
    "###SAVE CHECKPOINT###\n",
    "\n",
    "tiff.imwrite('[Enter_Save_Name]', BINARY_rescaled_dendrite_otsu_rescale_uint)\n",
    "print ('file saved')"
   ]
  },
  {
   "cell_type": "code",
   "execution_count": null,
   "id": "657a9a9d-eac4-4ee7-886a-4ca68118e523",
   "metadata": {},
   "outputs": [],
   "source": [
    "###FILE OPEN AND CHECKPOINT###\n",
    "\n",
    "dendrite_rescaled_binarised_open = tiff.imread('[Enter_File]')\n",
    "print (\"Dendrite otsu rescale shape:\", dendrite_rescaled_binarised_open.shape)\n",
    "print (dendrite_rescaled_binarised_open.dtype)"
   ]
  },
  {
   "cell_type": "code",
   "execution_count": null,
   "id": "c090a797-56f9-4c01-9d70-35e94fa6ee3e",
   "metadata": {},
   "outputs": [],
   "source": [
    "###POST-RESCALING SKELETONISATION###\n",
    "\n",
    "#Skeletonisation after rescaling# \n",
    "#Can get a C++ runtime error here, if this happens please re run previous cells and try again, if not, restart kernel#\n",
    "start = time.time()\n",
    "print (\"skeletonising..\")\n",
    "dendrite_skeleton_rescale = skeletonize_3d(dendrite_rescaled_binarised_open)\n",
    "viewer.add_image(\n",
    "    dendrite_skeleton_rescale,\n",
    "    name = \"Skeleton\",\n",
    "    contrast_limits = (0,1),\n",
    "    colormap='green',\n",
    "    blending='additive'\n",
    ")\n",
    "print (f\"skeletonisation done. Time taken: {time.time() - start: .2f} seconds\")"
   ]
  },
  {
   "cell_type": "code",
   "execution_count": null,
   "id": "dc8017f8-1597-4126-9b9d-16f1dbe850c7",
   "metadata": {},
   "outputs": [],
   "source": [
    "###POST-RESCALINE DATAFRAME###\n",
    "table = skan.summarize(Skeleton(skeleton_image = dendrite_skeleton_rescale))\n",
    "table.drop(table[table['branch-type'] == 0].index, axis=0, inplace=True)\n",
    "table.head"
   ]
  },
  {
   "cell_type": "code",
   "execution_count": null,
   "id": "356867cc-1410-4492-8d0d-fb06b681fd25",
   "metadata": {},
   "outputs": [],
   "source": [
    "###VECTORS###\n",
    "\n",
    "#Note: This will generate branch types 1,2 and 3. These are as follows:\n",
    "# Branch type 1: Dendrites that have only one attachment and have a dead end. \n",
    "# Branch type 2: Dendrites that have multiple attachmetns and connections.\n",
    "# Branch type 3: Dendrites that form loops.\n",
    "\n",
    "points_src = table[['image-coord-src-0', 'image-coord-src-1', 'image-coord-src-2']].values\n",
    "points_dst = table[['image-coord-dst-0', 'image-coord-dst-1', 'image-coord-dst-2']].values \n",
    "\n",
    "directions = points_dst - points_src \n",
    "\n",
    "vectors = np.concatenate((points_src[np.newaxis], directions[np.newaxis]), axis=0)\n",
    "vectors = np.swapaxes(vectors, 0,1)\n",
    "vectors.shape"
   ]
  },
  {
   "cell_type": "code",
   "execution_count": null,
   "id": "d71e74cd-693b-49bc-8abd-cd1f849daadd",
   "metadata": {},
   "outputs": [],
   "source": [
    "###NAPARI VISUALISATION###\n",
    "\n",
    "#Run Napari to ensure it works \n",
    "viewer = napari.Viewer()\n",
    "viewer.dims.ndisplay = 3\n",
    "viewer.add_image(dendrite_original, name='Dendrite Original', colormap='grey') # 1. original image#\n",
    "viewer.add_image(dendrite_probability, name='Dendrite Probability', colormap='viridis') # 2. probability image#\n",
    "viewer.add_image(dendrite_meijering, name=\"Vesselness filter\", contrast_limits=(0, 1)); # 3. meijering vesselness filter#\n",
    "viewer.add_labels(labels_binary, name=\"Otsu Threshold\") # 4. pre-rescaled otsu threshold binarised#\n",
    "viewer.add_labels(dendrite_rescaled_binarised_open, name=\"Otsu Threshold RESCALED\") # 5. pre-rescaled otsu threshold binarised#\n",
    "viewer.add_image(dendrite_skeleton, name = \"Skeleton\", contrast_limits = (0,1), colormap='cyan', blending='additive') # 6. pre-rescaled skeleton#\n",
    "viewer.add_image(dendrite_skeleton_rescale, name = \"Skeleton RESCALE\", contrast_limits = (0,1), colormap='green', blending='additive') #7. post-rescaled skeleton#\n",
    "viewer.add_vectors(vectors, name=\"Branch vectors\", edge_width=0.6,\n",
    "                   features=pd.DataFrame({'branch-type': table['branch-type'].values.astype(float)}), \n",
    "                   edge_color='branch-type', vector_style='arrow',\n",
    "                  ) # 8. Vectors (type 1,2,3)#"
   ]
  },
  {
   "cell_type": "code",
   "execution_count": null,
   "id": "15416206-ae55-4755-a548-c8a6492fc71c",
   "metadata": {},
   "outputs": [],
   "source": [
    "# File saves to use in the analysis script # \n",
    "\n",
    "#Save datafame as csv#\n",
    "table.to_csv(\"[Enter_Save_Name]\" , index = False)\n",
    "\n",
    "#save img as tiff#\n",
    "tiff.imwrite('[Enter_Save_Name]', labels_binary)\n",
    "tiff.imwrite('[Enter_Save_Name]', dendrite_rescaled_binarised_open)\n",
    "\n",
    "#save array as npy#\n",
    "np.save(\"[Enter_Save_Name]\", dendrite_meijering)\n",
    "np.save(\"[Enter_Save_Name]\", dendrite_skeleton_rescale)\n",
    "np.save(\"[Enter_Save_Name]\", vectors)"
   ]
  }
 ],
 "metadata": {
  "kernelspec": {
   "display_name": "Python 3 (ipykernel)",
   "language": "python",
   "name": "python3"
  },
  "language_info": {
   "codemirror_mode": {
    "name": "ipython",
    "version": 3
   },
   "file_extension": ".py",
   "mimetype": "text/x-python",
   "name": "python",
   "nbconvert_exporter": "python",
   "pygments_lexer": "ipython3",
   "version": "3.9.21"
  }
 },
 "nbformat": 4,
 "nbformat_minor": 5
}
